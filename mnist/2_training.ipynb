{
 "cells": [
  {
   "cell_type": "markdown",
   "metadata": {},
   "source": [
    "# Review\n"
   ]
  },
  {
   "cell_type": "code",
   "execution_count": 1,
   "metadata": {},
   "outputs": [
    {
     "name": "stderr",
     "output_type": "stream",
     "text": [
      "2024-11-25 08:57:43.896060: E external/local_xla/xla/stream_executor/cuda/cuda_fft.cc:477] Unable to register cuFFT factory: Attempting to register factory for plugin cuFFT when one has already been registered\n",
      "WARNING: All log messages before absl::InitializeLog() is called are written to STDERR\n",
      "E0000 00:00:1732553863.908332   13897 cuda_dnn.cc:8310] Unable to register cuDNN factory: Attempting to register factory for plugin cuDNN when one has already been registered\n",
      "E0000 00:00:1732553863.912065   13897 cuda_blas.cc:1418] Unable to register cuBLAS factory: Attempting to register factory for plugin cuBLAS when one has already been registered\n",
      "2024-11-25 08:57:43.924286: I tensorflow/core/platform/cpu_feature_guard.cc:210] This TensorFlow binary is optimized to use available CPU instructions in performance-critical operations.\n",
      "To enable the following instructions: AVX2 FMA, in other operations, rebuild TensorFlow with the appropriate compiler flags.\n"
     ]
    }
   ],
   "source": [
    "import tensorflow as tf\n",
    "from tensorflow.keras.datasets import mnist\n",
    "\n",
    "(x_train_arr, y_train_arr), (x_test_arr, y_test_arr) = mnist.load_data()\n",
    "# convert the input to tensors\n"
   ]
  },
  {
   "cell_type": "markdown",
   "metadata": {},
   "source": [
    "I'm getting all these errors above, but I've tested that my gpu is still working perfectly, so I was told to ignore these warnings by chatGPT."
   ]
  },
  {
   "cell_type": "code",
   "execution_count": 28,
   "metadata": {},
   "outputs": [],
   "source": [
    "x_train, x_test, y_train, y_test = tf.convert_to_tensor(x_train_arr), tf.convert_to_tensor(x_test_arr), tf.convert_to_tensor(y_train_arr), tf.convert_to_tensor(y_test_arr)\n"
   ]
  },
  {
   "cell_type": "code",
   "execution_count": null,
   "metadata": {},
   "outputs": [
    {
     "data": {
      "text/plain": [
       "<tf.Tensor: shape=(60000,), dtype=int64, numpy=array([0, 0, 0, ..., 0, 0, 0])>"
      ]
     },
     "execution_count": 32,
     "metadata": {},
     "output_type": "execute_result"
    }
   ],
   "source": [
    "import tensorflow as tf\n",
    "\n",
    "# I'm trying to make a first nearest neighbor model using cosine similarity\n",
    "\n",
    "def first_nn_model(input):\n",
    "    # Flatten the input\n",
    "    flattened_input = tf.reshape(tf.cast(input, tf.float32), [1, -1])\n",
    "    # Flatten the images to 1D vectors\n",
    "    x_train_vectors = tf.reshape(tf.cast(x_train, tf.float32), [x_train.shape[0], -1])\n",
    "\n",
    "    # Normalize the vectors to compute cosine similarity\n",
    "    x_train_0_norm = tf.linalg.l2_normalize(flattened_input)\n",
    "    x_train_flat_norm = tf.linalg.l2_normalize(x_train_vectors, axis=1)\n",
    "\n",
    "    # Compute cosine similarity\n",
    "    cosine_similarities = tf.linalg.matvec(x_train_flat_norm, x_train_0_norm)\n",
    "\n",
    "    predicted_label = tf.argmax(cosine_similarities)\n",
    "    return predicted_label\n",
    "\n",
    "first_nn_model(x_train[0:1])"
   ]
  },
  {
   "cell_type": "markdown",
   "metadata": {},
   "source": [
    "Let's start with a dummy model that just spits out random probabilities for each class. "
   ]
  },
  {
   "cell_type": "code",
   "execution_count": 84,
   "metadata": {},
   "outputs": [],
   "source": [
    "import tensorflow as tf\n",
    "\n",
    "# Define the uniform model\n",
    "num_classes = 10  # Adjust to your number of classes\n",
    "uniform_model = tf.keras.Sequential([\n",
    "    tf.keras.layers.Input(shape=(28,28)),  # Placeholder input, adjust as needed\n",
    "    tf.keras.layers.Lambda(lambda x: tf.fill((tf.shape(x)[0], num_classes), 1.0 / num_classes))\n",
    "])"
   ]
  },
  {
   "cell_type": "code",
   "execution_count": null,
   "metadata": {},
   "outputs": [],
   "source": [
    "# perfect model\n",
    "\n",
    "perfect_model = tf.keras.Sequential([\n",
    "    \n",
    "])"
   ]
  },
  {
   "cell_type": "markdown",
   "metadata": {},
   "source": [
    "As expected this outputs a prediction vector where every class has an equal probability."
   ]
  },
  {
   "cell_type": "code",
   "execution_count": 85,
   "metadata": {},
   "outputs": [
    {
     "data": {
      "text/plain": [
       "array([[0.1, 0.1, 0.1, ..., 0.1, 0.1, 0.1],\n",
       "       [0.1, 0.1, 0.1, ..., 0.1, 0.1, 0.1],\n",
       "       [0.1, 0.1, 0.1, ..., 0.1, 0.1, 0.1],\n",
       "       ...,\n",
       "       [0.1, 0.1, 0.1, ..., 0.1, 0.1, 0.1],\n",
       "       [0.1, 0.1, 0.1, ..., 0.1, 0.1, 0.1],\n",
       "       [0.1, 0.1, 0.1, ..., 0.1, 0.1, 0.1]], dtype=float32)"
      ]
     },
     "execution_count": 85,
     "metadata": {},
     "output_type": "execute_result"
    }
   ],
   "source": [
    "\n",
    "pred_train = uniform_model(x_train)\n",
    "\n",
    "pred_train.numpy()"
   ]
  },
  {
   "cell_type": "markdown",
   "metadata": {},
   "source": [
    "As we expect, with the uniform model, every class gets a probability of .1.\n",
    "\n"
   ]
  },
  {
   "cell_type": "code",
   "execution_count": 81,
   "metadata": {},
   "outputs": [
    {
     "data": {
      "text/plain": [
       "<bound method _EagerTensorBase.numpy of <tf.Tensor: shape=(60000, 10), dtype=float32, numpy=\n",
       "array([[0., 0., 0., ..., 0., 0., 0.],\n",
       "       [1., 0., 0., ..., 0., 0., 0.],\n",
       "       [0., 0., 0., ..., 0., 0., 0.],\n",
       "       ...,\n",
       "       [0., 0., 0., ..., 0., 0., 0.],\n",
       "       [0., 0., 0., ..., 0., 0., 0.],\n",
       "       [0., 0., 0., ..., 0., 1., 0.]], dtype=float32)>>"
      ]
     },
     "execution_count": 81,
     "metadata": {},
     "output_type": "execute_result"
    }
   ],
   "source": [
    "one_hot = tf.one_hot(y_train, 10)\n",
    "one_hot.numpy"
   ]
  },
  {
   "cell_type": "markdown",
   "metadata": {},
   "source": [
    "Idea, we can see how likely we say the correct class of being by taking a dot product of these two.\n",
    "\n",
    "We don't know how to do dot products yet, but let's guess by starting with an *."
   ]
  },
  {
   "cell_type": "code",
   "execution_count": 82,
   "metadata": {},
   "outputs": [
    {
     "data": {
      "text/plain": [
       "<tf.Tensor: shape=(60000, 10), dtype=float32, numpy=\n",
       "array([[0. , 0. , 0. , ..., 0. , 0. , 0. ],\n",
       "       [0.1, 0. , 0. , ..., 0. , 0. , 0. ],\n",
       "       [0. , 0. , 0. , ..., 0. , 0. , 0. ],\n",
       "       ...,\n",
       "       [0. , 0. , 0. , ..., 0. , 0. , 0. ],\n",
       "       [0. , 0. , 0. , ..., 0. , 0. , 0. ],\n",
       "       [0. , 0. , 0. , ..., 0. , 0.1, 0. ]], dtype=float32)>"
      ]
     },
     "execution_count": 82,
     "metadata": {},
     "output_type": "execute_result"
    }
   ],
   "source": [
    "one_hot * pred_train"
   ]
  },
  {
   "cell_type": "markdown",
   "metadata": {},
   "source": [
    "This is close, is actually just multiplies these two tensors elementwise. "
   ]
  },
  {
   "cell_type": "code",
   "execution_count": 76,
   "metadata": {},
   "outputs": [
    {
     "data": {
      "text/plain": [
       "array([0.1, 0.1, 0.1, ..., 0.1, 0.1, 0.1], dtype=float32)"
      ]
     },
     "execution_count": 76,
     "metadata": {},
     "output_type": "execute_result"
    }
   ],
   "source": [
    "tf.reduce_sum(one_hot * pred_train, axis=1).numpy()"
   ]
  },
  {
   "cell_type": "markdown",
   "metadata": {},
   "source": [
    "There it is, we can see, as expected, that the model always outputs a prediction of .1 for each correct each class."
   ]
  },
  {
   "cell_type": "markdown",
   "metadata": {},
   "source": []
  },
  {
   "cell_type": "markdown",
   "metadata": {},
   "source": [
    "## Cross Entropy Error\n",
    "\n",
    "Say the model is looking at a '4', a perfect model would assign a 100% probability to 4. The worst model would assign a 0% probability to 4.\n",
    "\n",
    "To come up with a loss function, we will need a function that looks like this:"
   ]
  },
  {
   "cell_type": "code",
   "execution_count": 25,
   "metadata": {},
   "outputs": [
    {
     "name": "stderr",
     "output_type": "stream",
     "text": [
      "/tmp/ipykernel_12124/1813527820.py:9: RuntimeWarning: divide by zero encountered in log\n",
      "  y = -np.log(x)\n"
     ]
    },
    {
     "data": {
      "text/plain": [
       "Text(0.5, 1.0, 'Loss Function')"
      ]
     },
     "execution_count": 25,
     "metadata": {},
     "output_type": "execute_result"
    },
    {
     "data": {
      "image/png": "[encoded data removed]",
      "text/plain": [
       "<Figure size 640x480 with 1 Axes>"
      ]
     },
     "metadata": {},
     "output_type": "display_data"
    }
   ],
   "source": [
    "# plot out - log(x) where x ranges from 0 to 1\n",
    "# The x should be labled as probability and y should be labeled as loss\n",
    "import matplotlib.pyplot as plt\n",
    "import numpy as np\n",
    "\n",
    "\n",
    "\n",
    "x = np.linspace(0, 1, 100)\n",
    "y = -np.log(x)\n",
    "\n",
    "plt.plot(x, y)\n",
    "plt.xlabel('Probability of 4')\n",
    "plt.ylabel('Loss')\n",
    "plt.title('Loss Function')"
   ]
  },
  {
   "cell_type": "markdown",
   "metadata": {},
   "source": [
    "This function punishes bad predictions with infinite loss, and good predictions get 0 loss. You've probably cheated by looking at the cell and realized this magic function is $-log(p)$"
   ]
  },
  {
   "cell_type": "markdown",
   "metadata": {},
   "source": [
    "### Cross-Entropy Formula \n",
    "\n",
    "We can use a clever formula to penalize the difference between $y$ and the predicted probabilities $\\hat{y}$. It is defined as:\n",
    "\n",
    "$$\n",
    "H(p, q) = -\\sum_{i=1}^C y_i \\log(\\hat{y}_i)\n",
    "$$x\n",
    "\n",
    "\n",
    "Where:\n",
    "- $C$ is the number of classes.\n",
    "- $y_i$ is the true label for class $i$ (1 if the true class is $i$, otherwise 0 in one-hot encoding).\n",
    "- $\\hat{y}_i$ is the predicted probability for class $i$.\n",
    "- The summation iterates over all classes.\n",
    "\n",
    "This formula penalizes predictions that deviate from the true class's probability distribution. If the predicted probability for the true class is close to 1, the loss is minimal.\n"
   ]
  },
  {
   "cell_type": "markdown",
   "metadata": {},
   "source": [
    "## Cross Entropy on a Uniform Distribution\n",
    "\n",
    "The average cross-entropy for a uniform distribution with $C = 10$ classes is derived as follows:\n",
    "\n",
    "$$\n",
    "H(p, q) = -\\sum_{i=1}^{C} y_i \\log(\\hat{y}_i)\n",
    "$$\n",
    "\n",
    "For a uniform distribution, each predicted probability is $\\hat{y}_i = \\frac{1}{C}$ and only the true class contributes to the sum ($y_i = 1$ for the true class, $0$ otherwise):\n",
    "\n",
    "$$\n",
    "H(p, q) = -\\log\\left(\\frac{1}{C}\\right)\n",
    "$$\n",
    "\n",
    "Substituting $C = 10$:\n",
    "\n",
    "$$\n",
    "H(p, q) = -\\log\\left(\\frac{1}{10}\\right) \\approx 2.3\n",
    "$$\n"
   ]
  },
  {
   "cell_type": "markdown",
   "metadata": {},
   "source": [
    "it's 2.3, just as we expected!!"
   ]
  },
  {
   "cell_type": "code",
   "execution_count": 34,
   "metadata": {},
   "outputs": [
    {
     "name": "stderr",
     "output_type": "stream",
     "text": [
      "/home/jackson/code/dl/venv/lib/python3.10/site-packages/keras/src/layers/reshaping/flatten.py:37: UserWarning: Do not pass an `input_shape`/`input_dim` argument to a layer. When using Sequential models, prefer using an `Input(shape)` object as the first layer in the model instead.\n",
      "  super().__init__(**kwargs)\n"
     ]
    }
   ],
   "source": [
    "model = tf.keras.Sequential([\n",
    "    tf.keras.layers.Flatten(input_shape=(28, 28)),\n",
    "    tf.keras.layers.Dense(10, activation='softmax')\n",
    "])"
   ]
  },
  {
   "cell_type": "code",
   "execution_count": 35,
   "metadata": {},
   "outputs": [
    {
     "name": "stdout",
     "output_type": "stream",
     "text": [
      "tf.Tensor(179.74203, shape=(), dtype=float32)\n"
     ]
    }
   ],
   "source": [
    "scce = tf.keras.losses.SparseCategoricalCrossentropy()\n",
    "\n",
    "pred_train = model(x_train)\n",
    "\n",
    "loss = scce(y_train, pred_train)\n",
    "\n",
    "print(loss)"
   ]
  },
  {
   "cell_type": "markdown",
   "metadata": {},
   "source": [
    "I'm a little surprised the sparse entropy loss is so high. I would expect it to be around 2.3 like the uniform model.\n",
    "\n",
    "Let's calculate this ourselves to see what's going on.\n"
   ]
  },
  {
   "cell_type": "code",
   "execution_count": 58,
   "metadata": {},
   "outputs": [
    {
     "data": {
      "text/plain": [
       "<tf.Tensor: shape=(60000, 10), dtype=float32, numpy=\n",
       "array([[      nan,       nan,       nan, ...,  -0.     ,       nan,\n",
       "              nan],\n",
       "       [     -inf,       nan,  -0.     , ...,  -0.     ,  -0.     ,\n",
       "          0.     ],\n",
       "       [ -0.     ,       nan,  -0.     , ...,       nan,       nan,\n",
       "         -0.     ],\n",
       "       ...,\n",
       "       [      nan,       nan,  -0.     , ...,  -0.     ,       nan,\n",
       "              nan],\n",
       "       [      nan,       nan,       nan, ...,       nan,       nan,\n",
       "              nan],\n",
       "       [ -0.     ,       nan,  -0.     , ...,  -0.     , -58.72172,\n",
       "         -0.     ]], dtype=float32)>"
      ]
     },
     "execution_count": 58,
     "metadata": {},
     "output_type": "execute_result"
    }
   ],
   "source": [
    "# cross_entropy = -tf.reduce_sum(tf.one_hot(y_train, depth=10) * tf.math.log(pred_train + 1e-30), axis=1)  # Avoid log(0) with small epsilon\n",
    "\n",
    " \n",
    "tf.math.log(pred_train) * tf.one_hot(y_train, depth=10)"
   ]
  },
  {
   "cell_type": "code",
   "execution_count": 66,
   "metadata": {},
   "outputs": [
    {
     "data": {
      "text/plain": [
       "2.3025850929940455"
      ]
     },
     "execution_count": 66,
     "metadata": {},
     "output_type": "execute_result"
    }
   ],
   "source": [
    "from math import log, log10\n",
    "\n",
    "-log(1/10)"
   ]
  },
  {
   "cell_type": "code",
   "execution_count": 16,
   "metadata": {},
   "outputs": [],
   "source": [
    "with tf.GradientTape() as tape:\n",
    "    pred_train = model(x_train)\n",
    "\n",
    "    loss = scce(y_train, pred_train)\n",
    "\n",
    "gradients = tape.gradient(loss, model.trainable_variables)\n"
   ]
  },
  {
   "cell_type": "code",
   "execution_count": 42,
   "metadata": {},
   "outputs": [
    {
     "name": "stdout",
     "output_type": "stream",
     "text": [
      "Reshaped gradient shape: (28, 28, 10)\n"
     ]
    },
    {
     "data": {
      "text/plain": [
       "<matplotlib.image.AxesImage at 0x740f7ab261a0>"
      ]
     },
     "execution_count": 42,
     "metadata": {},
     "output_type": "execute_result"
    },
    {
     "data": {
      "image/png": "[encoded data removed]",
      "text/plain": [
       "<Figure size 640x480 with 1 Axes>"
      ]
     },
     "metadata": {},
     "output_type": "display_data"
    }
   ],
   "source": [
    "# let's look at gradients\n",
    "\n",
    "\n",
    "\n",
    "from matplotlib import pyplot as plt\n",
    "\n",
    "reshaped_gradient = tf.reshape(gradients[0], (28, 28, 10))\n",
    "print(\"Reshaped gradient shape:\", reshaped_gradient.shape)\n",
    "\n",
    "plt.imshow(reshaped_gradient[:,:, 3])"
   ]
  }
 ],
 "metadata": {
  "kernelspec": {
   "display_name": "venv",
   "language": "python",
   "name": "python3"
  },
  "language_info": {
   "codemirror_mode": {
    "name": "ipython",
    "version": 3
   },
   "file_extension": ".py",
   "mimetype": "text/x-python",
   "name": "python",
   "nbconvert_exporter": "python",
   "pygments_lexer": "ipython3",
   "version": "3.10.12"
  }
 },
 "nbformat": 4,
 "nbformat_minor": 2
}
